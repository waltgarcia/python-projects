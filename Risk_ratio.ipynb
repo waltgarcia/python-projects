{
  "nbformat": 4,
  "nbformat_minor": 0,
  "metadata": {
    "colab": {
      "provenance": [],
      "authorship_tag": "ABX9TyPJn9cxO7UGTEc5OTgf+O4Z",
      "include_colab_link": true
    },
    "kernelspec": {
      "name": "python3",
      "display_name": "Python 3"
    },
    "language_info": {
      "name": "python"
    }
  },
  "cells": [
    {
      "cell_type": "markdown",
      "metadata": {
        "id": "view-in-github",
        "colab_type": "text"
      },
      "source": [
        "<a href=\"https://colab.research.google.com/github/waltgarcia/python-projects/blob/main/Risk_ratio.ipynb\" target=\"_parent\"><img src=\"https://colab.research.google.com/assets/colab-badge.svg\" alt=\"Open In Colab\"/></a>"
      ]
    },
    {
      "cell_type": "code",
      "source": [
        "import math\n",
        "\n",
        "def calculate_risk_ratio(events_old, total_old, events_new, total_new):\n",
        "    # Calculate risk ratio\n",
        "    risk_ratio = (events_new / total_new) / (events_old / total_old)\n",
        "\n",
        "    # Calculate standard error\n",
        "    se_log = math.sqrt(1 / events_old + 1 / (total_old - events_old) + 1 / events_new + 1 / (total_new - events_new))\n",
        "\n",
        "    # Calculate confidence interval (95%)\n",
        "    ci_lower = math.exp(math.log(risk_ratio) - 1.96 * se_log)\n",
        "    ci_upper = math.exp(math.log(risk_ratio) + 1.96 * se_log)\n",
        "\n",
        "    return risk_ratio, ci_lower, ci_upper\n",
        "\n",
        "# Input data\n",
        "events_old = int(input(\"Enter the number of events for the old drug: \"))\n",
        "total_old = int(input(\"Enter the total number of participants for the old drug: \"))\n",
        "\n",
        "events_new = int(input(\"Enter the number of events for the new drug: \"))\n",
        "total_new = int(input(\"Enter the total number of participants for the new drug: \"))\n",
        "\n",
        "# Calculate risk ratio\n",
        "risk_ratio, ci_lower, ci_upper = calculate_risk_ratio(events_old, total_old, events_new, total_new)\n",
        "\n",
        "# Display results\n",
        "print(\"\\nRisk Ratio: {:.4f}\".format(risk_ratio))\n",
        "print(\"95% Confidence Interval: {:.4f} to {:.4f}\".format(ci_lower, ci_upper))"
      ],
      "metadata": {
        "colab": {
          "base_uri": "https://localhost:8080/"
        },
        "id": "K2wlouJzbmuK",
        "outputId": "83620af3-aa59-42eb-bd4f-8bd611040862"
      },
      "execution_count": 6,
      "outputs": [
        {
          "output_type": "stream",
          "name": "stdout",
          "text": [
            "Enter the number of events for the old drug: 5\n",
            "Enter the total number of participants for the old drug: 30\n",
            "Enter the number of events for the new drug: 17\n",
            "Enter the total number of participants for the new drug: 2300\n",
            "\n",
            "Risk Ratio: 0.0443\n",
            "95% Confidence Interval: 0.0152 to 0.1296\n"
          ]
        }
      ]
    }
  ]
}