{
  "nbformat": 4,
  "nbformat_minor": 0,
  "metadata": {
    "colab": {
      "provenance": [],
      "authorship_tag": "ABX9TyOBRDyz7xBXCGPjSQpBwZdh",
      "include_colab_link": true
    },
    "kernelspec": {
      "name": "python3",
      "display_name": "Python 3"
    },
    "language_info": {
      "name": "python"
    }
  },
  "cells": [
    {
      "cell_type": "markdown",
      "metadata": {
        "id": "view-in-github",
        "colab_type": "text"
      },
      "source": [
        "<a href=\"https://colab.research.google.com/github/waltgarcia/python-projects/blob/main/Sample_Size_Calculator.ipynb\" target=\"_parent\"><img src=\"https://colab.research.google.com/assets/colab-badge.svg\" alt=\"Open In Colab\"/></a>"
      ]
    },
    {
      "cell_type": "code",
      "execution_count": 1,
      "metadata": {
        "colab": {
          "base_uri": "https://localhost:8080/"
        },
        "id": "aDO8E7m-S-lP",
        "outputId": "44ddbe4d-c8ea-4778-b4d3-adb3b2a416b7"
      },
      "outputs": [
        {
          "output_type": "stream",
          "name": "stdout",
          "text": [
            "Welcome to the Sample Size Calculator!\n",
            "Enter the estimated proportion for the first group (0 to 1): 0.89\n",
            "Enter the estimated proportion for the second group (0 to 1): 0.5\n",
            "Enter the significance level (e.g., 0.05 for 5%): 0.05\n",
            "Enter the desired power (e.g., 0.80 for 80%): 0.80\n",
            "\n",
            "Calculation Steps:\n",
            "1. Calculate Effect Size (Cohen's h): 0.9350877992448822\n",
            "2. Calculate Z-score at alpha/2 level (0.05): 1.9599639845400545\n",
            "3. Calculate Z-score at power level (0.8): 0.8416212335729143\n",
            "4. Calculate Sample Size: 3.122894568730765\n",
            "\n",
            "The required sample size for your study is approximately: 3 participants\n"
          ]
        }
      ],
      "source": [
        "import math\n",
        "from scipy.stats import norm\n",
        "\n",
        "def calculate_sample_size():\n",
        "    print(\"Welcome to the Sample Size Calculator!\")\n",
        "\n",
        "    # Get information from the user\n",
        "    p1 = float(input(\"Enter the estimated proportion for the first group (0 to 1): \"))\n",
        "    p2 = float(input(\"Enter the estimated proportion for the second group (0 to 1): \"))\n",
        "    alpha = float(input(\"Enter the significance level (e.g., 0.05 for 5%): \"))\n",
        "    power = float(input(\"Enter the desired power (e.g., 0.80 for 80%): \"))\n",
        "\n",
        "    # Calculate the effect size (Cohen's h)\n",
        "    effect_size = abs(p1 - p2) / math.sqrt((p1 * (1 - p1) + p2 * (1 - p2)) / 2)\n",
        "\n",
        "    # Use the Z-score corresponding to the desired alpha level (two-tailed test)\n",
        "    z_alpha = abs(norm.ppf(alpha / 2))\n",
        "\n",
        "    # Use the Z-score corresponding to the desired power level\n",
        "    z_power = abs(norm.ppf(power))\n",
        "\n",
        "    # Calculate the required sample size using the formula for a two-sample proportion test\n",
        "    sample_size = ((z_alpha + z_power) ** 2) * ((p1 * (1 - p1) + p2 * (1 - p2)) / effect_size ** 2)\n",
        "\n",
        "    print(\"\\nCalculation Steps:\")\n",
        "    print(f\"1. Calculate Effect Size (Cohen's h): {effect_size}\")\n",
        "    print(f\"2. Calculate Z-score at alpha/2 level ({alpha}): {z_alpha}\")\n",
        "    print(f\"3. Calculate Z-score at power level ({power}): {z_power}\")\n",
        "    print(f\"4. Calculate Sample Size: {sample_size}\")\n",
        "\n",
        "    print(f\"\\nThe required sample size for your study is approximately: {round(sample_size)} participants\")\n",
        "\n",
        "# Run the interactive Sample Size Calculator\n",
        "calculate_sample_size()"
      ]
    },
    {
      "cell_type": "code",
      "source": [],
      "metadata": {
        "id": "EM0wE9xWTDD_"
      },
      "execution_count": null,
      "outputs": []
    }
  ]
}