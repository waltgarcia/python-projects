{
  "nbformat": 4,
  "nbformat_minor": 0,
  "metadata": {
    "colab": {
      "provenance": [],
      "authorship_tag": "ABX9TyNREUYwmRB+izCJwtxs/VV8",
      "include_colab_link": true
    },
    "kernelspec": {
      "name": "python3",
      "display_name": "Python 3"
    },
    "language_info": {
      "name": "python"
    }
  },
  "cells": [
    {
      "cell_type": "markdown",
      "metadata": {
        "id": "view-in-github",
        "colab_type": "text"
      },
      "source": [
        "<a href=\"https://colab.research.google.com/github/waltgarcia/python-projects/blob/main/CSV_to_ICS.ipynb\" target=\"_parent\"><img src=\"https://colab.research.google.com/assets/colab-badge.svg\" alt=\"Open In Colab\"/></a>"
      ]
    },
    {
      "cell_type": "code",
      "source": [
        "import csv\n",
        "from datetime import datetime\n",
        "from ics import Calendar, Event\n",
        "\n",
        "def read_csv(file_path):\n",
        "    with open(file_path, 'r', newline='', encoding='utf-8') as file:\n",
        "        reader = csv.DictReader(file)\n",
        "        return list(reader)\n",
        "\n",
        "def create_ics(events_data):\n",
        "    cal = Calendar()\n",
        "\n",
        "    current_year = datetime.now().year\n",
        "\n",
        "    for event_data in events_data:\n",
        "        name = event_data['Nombre']\n",
        "        birthday_str = event_data['Fecha de Nacimiento']\n",
        "\n",
        "        # Skip entries where the date is '-'\n",
        "        if birthday_str == '-':\n",
        "            continue\n",
        "\n",
        "        # Parse date in 'YYYY-MM-DD' format\n",
        "        birth_date = datetime.strptime(birthday_str, '%Y-%m-%d')\n",
        "\n",
        "        # Set the year to the current year (you can change it to any constant year)\n",
        "        birth_date = birth_date.replace(year=current_year)\n",
        "\n",
        "        event = Event()\n",
        "        event.name = f\"Happy Birthday, {name}!\"\n",
        "        event.begin = birth_date\n",
        "        cal.events.add(event)\n",
        "\n",
        "    return cal\n",
        "\n",
        "def save_ics(calendar, output_path):\n",
        "    with open(output_path, 'w', encoding='utf-8') as file:\n",
        "        file.writelines(calendar)\n",
        "\n",
        "def main():\n",
        "    csv_file_path = '/content/cumpleaños.csv'\n",
        "    ics_output_path = '/content/cumpleaños'\n",
        "\n",
        "    events_data = read_csv(csv_file_path)\n",
        "    calendar = create_ics(events_data)\n",
        "    save_ics(calendar, ics_output_path)\n",
        "\n",
        "if __name__ == \"__main__\":\n",
        "    main()\n"
      ],
      "metadata": {
        "id": "r_naFTVL5-5w"
      },
      "execution_count": 17,
      "outputs": []
    }
  ]
}