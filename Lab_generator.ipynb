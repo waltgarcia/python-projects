{
  "nbformat": 4,
  "nbformat_minor": 0,
  "metadata": {
    "colab": {
      "provenance": []
    },
    "kernelspec": {
      "name": "python3",
      "display_name": "Python 3"
    },
    "language_info": {
      "name": "python"
    }
  },
  "cells": [
    {
      "cell_type": "code",
      "source": [
        "import pandas as pd\n",
        "import random\n",
        "\n",
        "# Set the seed for reproducibility\n",
        "random.seed(42)\n",
        "\n",
        "# Define the number of rows and visit count\n",
        "target_num_rows = 10005\n",
        "num_visits = 5  # Change this to the desired number of visits\n",
        "\n",
        "# Lists for data columns\n",
        "data_list = []\n",
        "\n",
        "# Generate data for each row\n",
        "while len(data_list) < target_num_rows:\n",
        "    subject_id = random.randint(7001, 7015)\n",
        "    for visit_num in range(num_visits):\n",
        "        for name in ['Glucose', 'Insulin', 'Hemoglobin', 'HbA1c', 'Triglycerides', 'Cholesterol', 'VLDL', 'HDL', 'LDL']:\n",
        "            row = {\n",
        "                'Subject ID': subject_id,\n",
        "                'Initials': chr(ord('A') + (subject_id - 7001)) * 3,\n",
        "                'Visit Name': f'Visit {visit_num + 1}',\n",
        "                'Result Name': name,\n",
        "                'Units': 'mg/dl' if name != 'HbA1c' else '%'\n",
        "            }\n",
        "            if name == 'Glucose':\n",
        "                mean, std = 85, 2\n",
        "            elif name == 'Insulin':\n",
        "                mean, std = 6.5, 2\n",
        "            elif name == 'Hemoglobin':\n",
        "                mean, std = 13.5, 1\n",
        "            elif name == 'HbA1c':\n",
        "                mean, std = 7.3, 0.8\n",
        "            elif name == 'Triglycerides':\n",
        "                mean, std = 150, 25\n",
        "            elif name in ['Cholesterol', 'VLDL', 'HDL', 'LDL']:\n",
        "                mean, std = 75, 12\n",
        "            result = round(random.uniform(mean - 2 * std, mean + 2 * std), 2)\n",
        "            row['Result'] = result\n",
        "            data_list.append(row)\n",
        "\n",
        "# Create the DataFrame from the list of dictionaries\n",
        "df = pd.DataFrame(data_list)\n",
        "\n",
        "# Export the DataFrame to a CSV file\n",
        "df.to_csv('labs10000.csv', index=False)\n",
        "\n",
        "print(\"Database generated and exported to 'labs10000.csv'.\")\n"
      ],
      "metadata": {
        "colab": {
          "base_uri": "https://localhost:8080/"
        },
        "id": "JUzucUbjU4RB",
        "outputId": "b4b3bf2f-e73b-45d6-e831-be1da973704c"
      },
      "execution_count": 8,
      "outputs": [
        {
          "output_type": "stream",
          "name": "stdout",
          "text": [
            "Database generated and exported to 'labs10000.csv'.\n"
          ]
        }
      ]
    },
    {
      "cell_type": "code",
      "source": [
        "import pandas as pd\n",
        "import random\n",
        "import string\n",
        "\n",
        "# Set the seed for reproducibility\n",
        "random.seed(42)\n",
        "\n",
        "# Define the number of rows and visit count\n",
        "target_num_rows = 10000\n",
        "num_visits = 5  # Change this to the desired number of visits\n",
        "\n",
        "# Lists for data columns\n",
        "data_list = []\n",
        "\n",
        "# Generate data for each row\n",
        "while len(data_list) < target_num_rows:\n",
        "    subject_id = random.randint(7001, 7015)\n",
        "    initials = ''.join(random.choice(string.ascii_uppercase) for _ in range(3))\n",
        "    for visit_num in range(num_visits):\n",
        "        for name in ['Glucose', 'Insulin', 'Hemoglobin', 'HbA1c', 'Triglycerides', 'Cholesterol', 'VLDL', 'HDL', 'LDL']:\n",
        "            row = {\n",
        "                'Subject ID': subject_id,\n",
        "                'Initials': initials,\n",
        "                'Visit Name': f'Visit {visit_num + 1}',\n",
        "                'Result Name': name,\n",
        "                'Units': 'mg/dl' if name != 'HbA1c' else '%'\n",
        "            }\n",
        "            if name == 'Glucose':\n",
        "                mean, std = 85, 2\n",
        "            elif name == 'Insulin':\n",
        "                mean, std = 6.5, 2\n",
        "            elif name == 'Hemoglobin':\n",
        "                mean, std = 13.5, 1\n",
        "            elif name == 'HbA1c':\n",
        "                mean, std = 7.3, 0.8\n",
        "            elif name == 'Triglycerides':\n",
        "                mean, std = 150, 25\n",
        "            elif name in ['Cholesterol', 'VLDL', 'HDL', 'LDL']:\n",
        "                mean, std = 75, 12\n",
        "            result = round(random.uniform(mean - 3 * std, mean + 3 * std), 2)\n",
        "            row['Result'] = result\n",
        "            data_list.append(row)\n",
        "\n",
        "# Create the DataFrame from the list of dictionaries\n",
        "df = pd.DataFrame(data_list)\n",
        "\n",
        "# Export the DataFrame to a CSV file\n",
        "df.to_csv('labsoficial.csv', index=False)\n",
        "\n",
        "print(\"Database with outliers and initials generated and exported to 'labsoficial.csv'.\")\n"
      ],
      "metadata": {
        "colab": {
          "base_uri": "https://localhost:8080/"
        },
        "id": "mzCvgcoeVqBC",
        "outputId": "9d45e0e5-16dc-4872-d170-05c1f3c163c5"
      },
      "execution_count": 9,
      "outputs": [
        {
          "output_type": "stream",
          "name": "stdout",
          "text": [
            "Database with outliers and initials generated and exported to 'labsoficial.csv'.\n"
          ]
        }
      ]
    },
    {
      "cell_type": "code",
      "source": [
        "import pandas as pd\n",
        "import random\n",
        "import string\n",
        "\n",
        "# Set the seed for reproducibility\n",
        "random.seed(42)\n",
        "\n",
        "# Define the number of rows and visit count\n",
        "target_num_rows = 100000  # Adjust this to get close to 100,000 rows\n",
        "num_visits = 10  # Adjust this to the desired number of visits\n",
        "\n",
        "# Lists for data columns\n",
        "data_list = []\n",
        "\n",
        "# Generate data for each row\n",
        "while len(data_list) < target_num_rows:\n",
        "    subject_id = random.randint(7001, 7015)\n",
        "    initials = ''.join(random.choice(string.ascii_uppercase) for _ in range(3))\n",
        "    for visit_num in range(num_visits):\n",
        "        for name in ['Glucose', 'Insulin', 'Hemoglobin', 'HbA1c', 'Triglycerides', 'Cholesterol', 'VLDL', 'HDL', 'LDL']:\n",
        "            row = {\n",
        "                'Subject ID': subject_id,\n",
        "                'Initials': initials,\n",
        "                'Visit Name': f'Visit {visit_num + 1}',\n",
        "                'Result Name': name,\n",
        "                'Units': 'mg/dl' if name != 'HbA1c' else '%'\n",
        "            }\n",
        "            if name == 'Glucose':\n",
        "                mean, std = 85, 2\n",
        "            elif name == 'Insulin':\n",
        "                mean, std = 6.5, 2\n",
        "            elif name == 'Hemoglobin':\n",
        "                mean, std = 13.5, 1\n",
        "            elif name == 'HbA1c':\n",
        "                mean, std = 7.3, 0.8\n",
        "            elif name == 'Triglycerides':\n",
        "                mean, std = 150, 25\n",
        "            elif name in ['Cholesterol', 'VLDL', 'HDL', 'LDL']:\n",
        "                mean, std = 75, 12\n",
        "            result = round(random.uniform(mean - 3 * std, mean + 3 * std), 2)\n",
        "            row['Result'] = result\n",
        "            data_list.append(row)\n",
        "\n",
        "# Create the DataFrame from the list of dictionaries\n",
        "df = pd.DataFrame(data_list)\n",
        "\n",
        "# Export the DataFrame to a CSV file\n",
        "df.to_csv('100k.csv', index=False)\n",
        "\n",
        "print(\"Large database generated and exported to '100k.csv'.\")\n"
      ],
      "metadata": {
        "colab": {
          "base_uri": "https://localhost:8080/"
        },
        "id": "D1tHx8MFWxXL",
        "outputId": "2ddd29e2-b705-4f67-f347-2e1c6861d6be"
      },
      "execution_count": 10,
      "outputs": [
        {
          "output_type": "stream",
          "name": "stdout",
          "text": [
            "Large database generated and exported to '100k.csv'.\n"
          ]
        }
      ]
    },
    {
      "cell_type": "code",
      "source": [
        "import pandas as pd\n",
        "import random\n",
        "import string\n",
        "\n",
        "# Set the seed for reproducibility\n",
        "random.seed(42)\n",
        "\n",
        "# Get user inputs for target number of rows and number of visits\n",
        "target_num_rows = int(input(\"Enter the target number of rows: \"))\n",
        "num_visits = int(input(\"Enter the number of visits per subject: \"))\n",
        "\n",
        "# Lists for data columns\n",
        "data_list = []\n",
        "\n",
        "# Generate data for each row\n",
        "while len(data_list) < target_num_rows:\n",
        "    subject_id = random.randint(7001, 7015)\n",
        "    initials = ''.join(random.choice(string.ascii_uppercase) for _ in range(3))\n",
        "    for visit_num in range(num_visits):\n",
        "        for name in ['Glucose', 'Insulin', 'Hemoglobin', 'HbA1c', 'Triglycerides', 'Cholesterol', 'VLDL', 'HDL', 'LDL']:\n",
        "            row = {\n",
        "                'Subject ID': subject_id,\n",
        "                'Initials': initials,\n",
        "                'Visit Name': f'Visit {visit_num + 1}',\n",
        "                'Result Name': name,\n",
        "                'Units': 'mg/dl' if name != 'HbA1c' else '%'\n",
        "            }\n",
        "            if name == 'Glucose':\n",
        "                mean, std = 85, 2\n",
        "            elif name == 'Insulin':\n",
        "                mean, std = 6.5, 2\n",
        "            elif name == 'Hemoglobin':\n",
        "                mean, std = 13.5, 1\n",
        "            elif name == 'HbA1c':\n",
        "                mean, std = 7.3, 0.8\n",
        "            elif name == 'Triglycerides':\n",
        "                mean, std = 150, 25\n",
        "            elif name in ['Cholesterol', 'VLDL', 'HDL', 'LDL']:\n",
        "                mean, std = 75, 12\n",
        "            result = round(random.uniform(mean - 3 * std, mean + 3 * std), 2)\n",
        "            row['Result'] = result\n",
        "            data_list.append(row)\n",
        "\n",
        "# Create the DataFrame from the list of dictionaries\n",
        "df = pd.DataFrame(data_list)\n",
        "\n",
        "# Export the DataFrame to a CSV file\n",
        "df.to_csv('generated_database_interactive.csv', index=False)\n",
        "\n",
        "print(f\"Database with {target_num_rows} rows and {num_visits} visits per subject generated and exported to 'generated_database_interactive.csv'.\")\n"
      ],
      "metadata": {
        "colab": {
          "base_uri": "https://localhost:8080/"
        },
        "id": "lsO3mQ8EXoKZ",
        "outputId": "22c51ec5-698d-4285-af2b-7a90a98c2d7c"
      },
      "execution_count": 11,
      "outputs": [
        {
          "output_type": "stream",
          "name": "stdout",
          "text": [
            "Enter the target number of rows: 50005\n",
            "Enter the number of visits per subject: 17\n",
            "Database with 50005 rows and 17 visits per subject generated and exported to 'generated_database_interactive.csv'.\n"
          ]
        }
      ]
    },
    {
      "cell_type": "code",
      "source": [
        "import pandas as pd\n",
        "import random\n",
        "\n",
        "# Get user inputs for column details\n",
        "num_rows = int(input(\"Enter the number of rows: \"))\n",
        "result_name = input(\"Enter the name of the result: \")\n",
        "min_value = float(input(\"Enter the minimum value: \"))\n",
        "max_value = float(input(\"Enter the maximum value: \"))\n",
        "std_dev = float(input(\"Enter the number of standard deviations: \"))\n",
        "\n",
        "# Generate data for the specified column\n",
        "data = [round(random.uniform(min_value, max_value), 2) for _ in range(num_rows)]\n",
        "\n",
        "# Create a DataFrame with the generated data\n",
        "df = pd.DataFrame({result_name: data})\n",
        "\n",
        "# Export the DataFrame to a CSV file\n",
        "output_filename = f\"{result_name}.csv\"\n",
        "df.to_csv(output_filename, index=False)\n",
        "\n",
        "print(f\"Column '{result_name}' generated and exported to '{output_filename}'.\")\n"
      ],
      "metadata": {
        "colab": {
          "base_uri": "https://localhost:8080/"
        },
        "id": "mm4k8CHfap0W",
        "outputId": "80613985-6f7e-459f-e878-1c69c132c034"
      },
      "execution_count": 15,
      "outputs": [
        {
          "output_type": "stream",
          "name": "stdout",
          "text": [
            "Enter the number of rows: 1000000\n",
            "Enter the name of the result: Glucose\n",
            "Enter the minimum value: 70\n",
            "Enter the maximum value: 100\n",
            "Enter the number of standard deviations: 4\n",
            "Column 'Glucose' generated and exported to 'Glucose.csv'.\n"
          ]
        }
      ]
    },
    {
      "cell_type": "code",
      "source": [],
      "metadata": {
        "id": "qeUHiD3Kbs_P"
      },
      "execution_count": null,
      "outputs": []
    }
  ]
}