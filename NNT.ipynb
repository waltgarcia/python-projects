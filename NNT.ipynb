{
  "nbformat": 4,
  "nbformat_minor": 0,
  "metadata": {
    "colab": {
      "provenance": [],
      "authorship_tag": "ABX9TyORS6ZUxaN7P4TqVl2OlyqG",
      "include_colab_link": true
    },
    "kernelspec": {
      "name": "python3",
      "display_name": "Python 3"
    },
    "language_info": {
      "name": "python"
    }
  },
  "cells": [
    {
      "cell_type": "markdown",
      "metadata": {
        "id": "view-in-github",
        "colab_type": "text"
      },
      "source": [
        "<a href=\"https://colab.research.google.com/github/waltgarcia/python-projects/blob/main/NNT.ipynb\" target=\"_parent\"><img src=\"https://colab.research.google.com/assets/colab-badge.svg\" alt=\"Open In Colab\"/></a>"
      ]
    },
    {
      "cell_type": "code",
      "execution_count": 1,
      "metadata": {
        "colab": {
          "base_uri": "https://localhost:8080/"
        },
        "id": "GDwVlZX7RINw",
        "outputId": "1243e43c-fabf-45bf-a7ad-02cc92e2931b"
      },
      "outputs": [
        {
          "output_type": "stream",
          "name": "stdout",
          "text": [
            "Welcome to the Number Needed to Treat (NNT) calculator!\n",
            "Enter the name of the disease: Alzheimer's disease\n",
            "Enter the size of the treatment group: 50\n",
            "Enter the size of the control group: 50\n",
            "Enter the number of events in the treatment group: 7\n",
            "Enter the number of events in the control group: 15\n",
            "\n",
            "The Number Needed to Treat (NNT) for Alzheimer's disease is approximately: 6.25\n"
          ]
        }
      ],
      "source": [
        "def calculate_nnt():\n",
        "    print(\"Welcome to the Number Needed to Treat (NNT) calculator!\")\n",
        "\n",
        "    # Get information from the user\n",
        "    disease_name = input(\"Enter the name of the disease: \")\n",
        "    treatment_group_size = int(input(\"Enter the size of the treatment group: \"))\n",
        "    control_group_size = int(input(\"Enter the size of the control group: \"))\n",
        "    events_treatment = int(input(\"Enter the number of events in the treatment group: \"))\n",
        "    events_control = int(input(\"Enter the number of events in the control group: \"))\n",
        "\n",
        "    # Calculate absolute risk reduction (ARR)\n",
        "    arr = (events_control / control_group_size) - (events_treatment / treatment_group_size)\n",
        "\n",
        "    # Calculate number needed to treat (NNT)\n",
        "    if arr != 0:\n",
        "        nnt = 1 / abs(arr)\n",
        "        print(f\"\\nThe Number Needed to Treat (NNT) for {disease_name} is approximately: {round(nnt, 2)}\")\n",
        "    else:\n",
        "        print(\"\\nCannot calculate NNT when absolute risk reduction is zero.\")\n",
        "\n",
        "# Run the interactive NNT calculator\n",
        "calculate_nnt()"
      ]
    }
  ]
}